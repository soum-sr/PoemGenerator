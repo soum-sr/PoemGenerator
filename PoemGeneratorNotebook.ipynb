{
 "cells": [
  {
   "cell_type": "markdown",
   "metadata": {},
   "source": [
    "## Import Necessary Packages"
   ]
  },
  {
   "cell_type": "code",
   "execution_count": 2,
   "metadata": {},
   "outputs": [],
   "source": [
    "import tensorflow as tf\n",
    "import numpy as np\n",
    "import string\n",
    "import sys\n",
    "import matplotlib.pyplot as plt\n",
    "from pickle import dump\n",
    "from tensorflow.keras.preprocessing.text import Tokenizer\n",
    "from tensorflow.keras.preprocessing.sequence import pad_sequences\n",
    "from tensorflow.keras.utils import to_categorical\n",
    "from tensorflow.keras.layers import Embedding, Dense, SimpleRNN\n",
    "from tensorflow.keras.models import Sequential"
   ]
  },
  {
   "cell_type": "markdown",
   "metadata": {},
   "source": [
    "### Data Preprocessing"
   ]
  },
  {
   "cell_type": "code",
   "execution_count": 3,
   "metadata": {},
   "outputs": [
    {
     "data": {
      "text/plain": [
       "\"                     1\\n  From fairest creatures we desire increase,\\n  That thereby beauty's rose might never die,\\n  But as the riper should by time decease,\\n  His tender heir might bear his memory:\\n  But thou contracted to thine own bright eyes,\\n  Feed'st thy light's flame with self-substantial fuel,\\n  Making a famine where abundance lies,\\n  Thy self thy foe, to thy sweet self too cruel:\\n  Thou that art now the world's fresh ornament,\\n  And only herald to the gaudy spring,\\n  Within thine own bud\""
      ]
     },
     "execution_count": 3,
     "metadata": {},
     "output_type": "execute_result"
    }
   ],
   "source": [
    "filename=\"t8.shakespeare.txt\"\n",
    "raw_data = open(filename, 'r', encoding='utf-8').read()\n",
    "raw_data[:500]"
   ]
  },
  {
   "cell_type": "code",
   "execution_count": 4,
   "metadata": {},
   "outputs": [
    {
     "name": "stdout",
     "output_type": "stream",
     "text": [
      "['from', 'fairest', 'creatures', 'we', 'desire', 'increase', 'that', 'thereby', 'beautys', 'rose', 'might', 'never', 'die', 'but', 'as', 'the', 'riper', 'should', 'by', 'time', 'decease', 'his', 'tender', 'heir', 'might', 'bear', 'his', 'memory', 'but', 'thou', 'contracted', 'to', 'thine', 'own', 'bright', 'eyes', 'feedst', 'thy', 'lights', 'flame', 'with', 'selfsubstantial', 'fuel', 'making', 'a', 'famine', 'where', 'abundance', 'lies', 'thy', 'self', 'thy', 'foe', 'to', 'thy', 'sweet', 'self', 'too', 'cruel', 'thou', 'that', 'art', 'now', 'the', 'worlds', 'fresh', 'ornament', 'and', 'only', 'herald', 'to', 'the', 'gaudy', 'spring', 'within', 'thine', 'own', 'bud', 'buriest', 'thy', 'content', 'and', 'tender', 'churl', 'makst', 'waste', 'in', 'niggarding', 'pity', 'the', 'world', 'or', 'else', 'this', 'glutton', 'be', 'to', 'eat', 'the', 'worlds']\n",
      "Total words =  17582\n",
      "Unique words =   3178\n"
     ]
    }
   ],
   "source": [
    "lower_text = raw_data.lower()\n",
    "words = lower_text.split()\n",
    "# To remove punctuations\n",
    "table = str.maketrans('','', string.punctuation)\n",
    "words = [w.translate(table) for w in words]\n",
    "# Remove anything that is not alphabetic\n",
    "words = [word for word in words if word.isalpha()]\n",
    "\n",
    "print(words[:100])\n",
    "print(\"Total words = \", len(words))\n",
    "print(\"Unique words =  \", len(set(words)))"
   ]
  },
  {
   "cell_type": "code",
   "execution_count": 5,
   "metadata": {},
   "outputs": [
    {
     "name": "stdout",
     "output_type": "stream",
     "text": [
      "['from fairest creatures we desire increase that thereby beautys rose might', 'fairest creatures we desire increase that thereby beautys rose might never', 'creatures we desire increase that thereby beautys rose might never die', 'we desire increase that thereby beautys rose might never die but', 'desire increase that thereby beautys rose might never die but as']\n",
      "Total sentences:  17571\n"
     ]
    }
   ],
   "source": [
    "length = 10 + 1\n",
    "sentences = []\n",
    "for i in range(length, len(words)):\n",
    "    seq = words[i-length:i]\n",
    "    line = ' '.join(seq)\n",
    "    sentences.append(line)\n",
    "\n",
    "print(sentences[:5])\n",
    "print(\"Total sentences: \", len(sentences))"
   ]
  },
  {
   "cell_type": "markdown",
   "metadata": {},
   "source": [
    "### Tokenize the sentences"
   ]
  },
  {
   "cell_type": "code",
   "execution_count": 6,
   "metadata": {},
   "outputs": [
    {
     "name": "stdout",
     "output_type": "stream",
     "text": [
      "TEXT DATA: \n",
      " ['from fairest creatures we desire increase that thereby beautys rose might', 'fairest creatures we desire increase that thereby beautys rose might never', 'creatures we desire increase that thereby beautys rose might never die', 'we desire increase that thereby beautys rose might never die but', 'desire increase that thereby beautys rose might never die but as']\n",
      "NUMERIC ENCODING: \n",
      " [[34, 499, 1356, 176, 228, 633, 8, 1355, 142, 405, 100], [499, 1356, 176, 228, 633, 8, 1355, 142, 405, 100, 161], [1356, 176, 228, 633, 8, 1355, 142, 405, 100, 161, 193], [176, 228, 633, 8, 1355, 142, 405, 100, 161, 193, 16], [228, 633, 8, 1355, 142, 405, 100, 161, 193, 16, 22]]\n",
      "MAPPING:  {'and': 1, 'the': 2, 'to': 3, 'my': 4, 'of': 5, 'i': 6, 'in': 7, 'that': 8, 'thy': 9, 'thou': 10}\n"
     ]
    }
   ],
   "source": [
    "tokenizer = Tokenizer()\n",
    "tokenizer.fit_on_texts(sentences)\n",
    "numeric_sentences = tokenizer.texts_to_sequences(sentences)\n",
    "\n",
    "print(\"TEXT DATA: \\n\",sentences[:5])\n",
    "print(\"NUMERIC ENCODING: \\n\",numeric_sentences[:5])\n",
    "print(\"MAPPING: \",{k: tokenizer.word_index[k] for k in list(tokenizer.word_index)[:10]})"
   ]
  },
  {
   "cell_type": "code",
   "execution_count": 7,
   "metadata": {},
   "outputs": [
    {
     "name": "stdout",
     "output_type": "stream",
     "text": [
      "Vocabulary Size:  3179\n",
      "Shape of X:  (17571, 10)\n",
      "Shape of y:  (17571, 3179)\n",
      "Input length:  10\n"
     ]
    }
   ],
   "source": [
    "vocabulary_size = len(tokenizer.word_index) + 1\n",
    "data_array = np.array(numeric_sentences)\n",
    "X, y = data_array[:,:-1], data_array[:,-1]\n",
    "y = to_categorical(y, num_classes=vocabulary_size)\n",
    "input_length = X.shape[1]\n",
    "print(\"Vocabulary Size: \", vocabulary_size)\n",
    "print(\"Shape of X: \",X.shape)\n",
    "print(\"Shape of y: \", y.shape)\n",
    "print(\"Input length: \", input_length)"
   ]
  },
  {
   "cell_type": "markdown",
   "metadata": {},
   "source": [
    "### Build and train the model"
   ]
  },
  {
   "cell_type": "code",
   "execution_count": 9,
   "metadata": {},
   "outputs": [
    {
     "name": "stdout",
     "output_type": "stream",
     "text": [
      "Model: \"sequential_1\"\n",
      "_________________________________________________________________\n",
      "Layer (type)                 Output Shape              Param #   \n",
      "=================================================================\n",
      "embedding (Embedding)        (None, 10, 50)            158950    \n",
      "_________________________________________________________________\n",
      "simple_rnn (SimpleRNN)       (None, 10, 25)            1900      \n",
      "_________________________________________________________________\n",
      "simple_rnn_1 (SimpleRNN)     (None, 25)                1275      \n",
      "_________________________________________________________________\n",
      "dense (Dense)                (None, 50)                1300      \n",
      "_________________________________________________________________\n",
      "dense_1 (Dense)              (None, 3179)              162129    \n",
      "=================================================================\n",
      "Total params: 325,554\n",
      "Trainable params: 325,554\n",
      "Non-trainable params: 0\n",
      "_________________________________________________________________\n"
     ]
    }
   ],
   "source": [
    "def rnn_model():\n",
    "    model = Sequential()\n",
    "    model.add(Embedding(vocabulary_size, 50, input_length=input_length))\n",
    "    model.add(SimpleRNN(25, return_sequences=True))\n",
    "    model.add(SimpleRNN(25))\n",
    "    model.add(Dense(50, activation='relu'))\n",
    "    model.add(Dense(vocabulary_size, activation='softmax'))\n",
    "    return model\n",
    "\n",
    "model = rnn_model()\n",
    "lr = 0.0009\n",
    "optimizer = tf.keras.optimizers.Adam(learning_rate=lr)\n",
    "model.compile(loss = 'categorical_crossentropy',optimizer = optimizer, metrics = ['accuracy'])\n",
    "\n",
    "model.summary()"
   ]
  },
  {
   "cell_type": "code",
   "execution_count": 10,
   "metadata": {},
   "outputs": [
    {
     "name": "stdout",
     "output_type": "stream",
     "text": [
      "Train on 17571 samples\n",
      "Epoch 1/150\n",
      "17571/17571 [==============================] - 4s 232us/sample - loss: 6.9870 - accuracy: 0.0226\n",
      "Epoch 2/150\n",
      "17571/17571 [==============================] - 2s 129us/sample - loss: 6.4563 - accuracy: 0.0266\n",
      "Epoch 3/150\n",
      "17571/17571 [==============================] - 2s 126us/sample - loss: 6.3988 - accuracy: 0.0278\n",
      "Epoch 4/150\n",
      "17571/17571 [==============================] - 2s 131us/sample - loss: 6.1944 - accuracy: 0.0318\n",
      "Epoch 5/150\n",
      "17571/17571 [==============================] - 2s 133us/sample - loss: 5.9181 - accuracy: 0.0369\n",
      "Epoch 6/150\n",
      "17571/17571 [==============================] - 3s 145us/sample - loss: 5.6752 - accuracy: 0.0452\n",
      "Epoch 7/150\n",
      "17571/17571 [==============================] - 2s 132us/sample - loss: 5.4792 - accuracy: 0.0525\n",
      "Epoch 8/150\n",
      "17571/17571 [==============================] - 3s 147us/sample - loss: 5.3079 - accuracy: 0.0612\n",
      "Epoch 9/150\n",
      "17571/17571 [==============================] - 3s 146us/sample - loss: 5.1558 - accuracy: 0.0704\n",
      "Epoch 10/150\n",
      "17571/17571 [==============================] - 2s 132us/sample - loss: 5.0167 - accuracy: 0.0805\n",
      "Epoch 11/150\n",
      "17571/17571 [==============================] - 3s 147us/sample - loss: 4.8832 - accuracy: 0.0917\n",
      "Epoch 12/150\n",
      "17571/17571 [==============================] - 2s 138us/sample - loss: 4.7621 - accuracy: 0.1023\n",
      "Epoch 13/150\n",
      "17571/17571 [==============================] - 2s 131us/sample - loss: 4.6355 - accuracy: 0.1163\n",
      "Epoch 14/150\n",
      "17571/17571 [==============================] - 2s 134us/sample - loss: 4.5117 - accuracy: 0.1275\n",
      "Epoch 15/150\n",
      "17571/17571 [==============================] - 2s 141us/sample - loss: 4.3915 - accuracy: 0.1386\n",
      "Epoch 16/150\n",
      "17571/17571 [==============================] - 3s 149us/sample - loss: 4.2728 - accuracy: 0.1515\n",
      "Epoch 17/150\n",
      "17571/17571 [==============================] - 3s 155us/sample - loss: 4.1606 - accuracy: 0.1645\n",
      "Epoch 18/150\n",
      "17571/17571 [==============================] - 3s 154us/sample - loss: 4.0431 - accuracy: 0.1756\n",
      "Epoch 19/150\n",
      "17571/17571 [==============================] - 3s 155us/sample - loss: 3.9321 - accuracy: 0.1909\n",
      "Epoch 20/150\n",
      "17571/17571 [==============================] - 3s 154us/sample - loss: 3.8220 - accuracy: 0.2047\n",
      "Epoch 21/150\n",
      "17571/17571 [==============================] - 3s 149us/sample - loss: 3.7059 - accuracy: 0.2159\n",
      "Epoch 22/150\n",
      "17571/17571 [==============================] - 3s 149us/sample - loss: 3.6001 - accuracy: 0.2282\n",
      "Epoch 23/150\n",
      "17571/17571 [==============================] - 3s 147us/sample - loss: 3.4905 - accuracy: 0.2424\n",
      "Epoch 24/150\n",
      "17571/17571 [==============================] - 3s 156us/sample - loss: 3.3815 - accuracy: 0.2602\n",
      "Epoch 25/150\n",
      "17571/17571 [==============================] - 3s 160us/sample - loss: 3.2812 - accuracy: 0.2722\n",
      "Epoch 26/150\n",
      "17571/17571 [==============================] - 3s 160us/sample - loss: 3.1789 - accuracy: 0.2867\n",
      "Epoch 27/150\n",
      "17571/17571 [==============================] - 3s 145us/sample - loss: 3.0769 - accuracy: 0.3063\n",
      "Epoch 28/150\n",
      "17571/17571 [==============================] - 3s 161us/sample - loss: 2.9818 - accuracy: 0.3212\n",
      "Epoch 29/150\n",
      "17571/17571 [==============================] - 3s 161us/sample - loss: 2.8827 - accuracy: 0.3420\n",
      "Epoch 30/150\n",
      "17571/17571 [==============================] - 3s 160us/sample - loss: 2.7913 - accuracy: 0.3618\n",
      "Epoch 31/150\n",
      "17571/17571 [==============================] - 3s 175us/sample - loss: 2.7003 - accuracy: 0.3773\n",
      "Epoch 32/150\n",
      "17571/17571 [==============================] - 3s 160us/sample - loss: 2.6192 - accuracy: 0.3929\n",
      "Epoch 33/150\n",
      "17571/17571 [==============================] - 3s 165us/sample - loss: 2.5294 - accuracy: 0.4127\n",
      "Epoch 34/150\n",
      "17571/17571 [==============================] - 3s 166us/sample - loss: 2.4485 - accuracy: 0.4274\n",
      "Epoch 35/150\n",
      "17571/17571 [==============================] - 3s 160us/sample - loss: 2.3683 - accuracy: 0.4502\n",
      "Epoch 36/150\n",
      "17571/17571 [==============================] - 3s 168us/sample - loss: 2.2963 - accuracy: 0.4664\n",
      "Epoch 37/150\n",
      "17571/17571 [==============================] - 3s 168us/sample - loss: 2.2181 - accuracy: 0.4803\n",
      "Epoch 38/150\n",
      "17571/17571 [==============================] - 3s 174us/sample - loss: 2.1520 - accuracy: 0.4988\n",
      "Epoch 39/150\n",
      "17571/17571 [==============================] - 3s 164us/sample - loss: 2.0937 - accuracy: 0.5123\n",
      "Epoch 40/150\n",
      "17571/17571 [==============================] - 3s 164us/sample - loss: 2.0243 - accuracy: 0.5226\n",
      "Epoch 41/150\n",
      "17571/17571 [==============================] - 3s 165us/sample - loss: 1.9698 - accuracy: 0.5353\n",
      "Epoch 42/150\n",
      "17571/17571 [==============================] - 3s 155us/sample - loss: 1.9022 - accuracy: 0.5481\n",
      "Epoch 43/150\n",
      "17571/17571 [==============================] - 3s 159us/sample - loss: 1.8434 - accuracy: 0.5644\n",
      "Epoch 44/150\n",
      "17571/17571 [==============================] - 3s 165us/sample - loss: 1.7819 - accuracy: 0.5762\n",
      "Epoch 45/150\n",
      "17571/17571 [==============================] - 3s 159us/sample - loss: 1.7288 - accuracy: 0.5875\n",
      "Epoch 46/150\n",
      "17571/17571 [==============================] - 3s 166us/sample - loss: 1.6878 - accuracy: 0.5958\n",
      "Epoch 47/150\n",
      "17571/17571 [==============================] - 3s 170us/sample - loss: 1.6565 - accuracy: 0.6030\n",
      "Epoch 48/150\n",
      "17571/17571 [==============================] - 3s 169us/sample - loss: 1.6131 - accuracy: 0.6127\n",
      "Epoch 49/150\n",
      "17571/17571 [==============================] - 3s 173us/sample - loss: 1.5718 - accuracy: 0.6227\n",
      "Epoch 50/150\n",
      "17571/17571 [==============================] - 3s 177us/sample - loss: 1.5320 - accuracy: 0.6264\n",
      "Epoch 51/150\n",
      "17571/17571 [==============================] - 3s 159us/sample - loss: 1.4775 - accuracy: 0.6375\n",
      "Epoch 52/150\n",
      "17571/17571 [==============================] - 3s 164us/sample - loss: 1.4311 - accuracy: 0.6551\n",
      "Epoch 53/150\n",
      "17571/17571 [==============================] - 3s 164us/sample - loss: 1.3891 - accuracy: 0.6635\n",
      "Epoch 54/150\n",
      "17571/17571 [==============================] - 3s 170us/sample - loss: 1.3631 - accuracy: 0.6664\n",
      "Epoch 55/150\n",
      "17571/17571 [==============================] - 3s 166us/sample - loss: 1.3310 - accuracy: 0.6738\n",
      "Epoch 56/150\n",
      "17571/17571 [==============================] - 3s 166us/sample - loss: 1.2794 - accuracy: 0.6916\n",
      "Epoch 57/150\n",
      "17571/17571 [==============================] - 3s 170us/sample - loss: 1.2531 - accuracy: 0.6969\n",
      "Epoch 58/150\n",
      "17571/17571 [==============================] - 3s 167us/sample - loss: 1.2262 - accuracy: 0.7030\n",
      "Epoch 59/150\n",
      "17571/17571 [==============================] - 3s 172us/sample - loss: 1.1833 - accuracy: 0.7115\n",
      "Epoch 60/150\n",
      "17571/17571 [==============================] - 3s 166us/sample - loss: 1.1743 - accuracy: 0.7153\n",
      "Epoch 61/150\n",
      "17571/17571 [==============================] - 3s 165us/sample - loss: 1.1581 - accuracy: 0.7162\n",
      "Epoch 62/150\n",
      "17571/17571 [==============================] - 3s 165us/sample - loss: 1.1321 - accuracy: 0.7224\n",
      "Epoch 63/150\n",
      "17571/17571 [==============================] - 3s 163us/sample - loss: 1.1076 - accuracy: 0.7273\n",
      "Epoch 64/150\n",
      "17571/17571 [==============================] - 3s 158us/sample - loss: 1.0830 - accuracy: 0.7339\n",
      "Epoch 65/150\n",
      "17571/17571 [==============================] - 3s 172us/sample - loss: 1.0456 - accuracy: 0.7447\n",
      "Epoch 66/150\n",
      "17571/17571 [==============================] - 3s 165us/sample - loss: 1.0279 - accuracy: 0.7481\n",
      "Epoch 67/150\n",
      "17571/17571 [==============================] - 3s 161us/sample - loss: 0.9940 - accuracy: 0.7545\n",
      "Epoch 68/150\n",
      "17571/17571 [==============================] - 3s 165us/sample - loss: 0.9517 - accuracy: 0.7700\n",
      "Epoch 69/150\n",
      "17571/17571 [==============================] - 3s 176us/sample - loss: 0.9357 - accuracy: 0.7746\n",
      "Epoch 70/150\n",
      "17571/17571 [==============================] - 3s 171us/sample - loss: 0.9251 - accuracy: 0.7743\n",
      "Epoch 71/150\n",
      "17571/17571 [==============================] - 3s 169us/sample - loss: 0.9279 - accuracy: 0.7743\n",
      "Epoch 72/150\n",
      "17571/17571 [==============================] - 3s 160us/sample - loss: 0.9080 - accuracy: 0.7771\n",
      "Epoch 73/150\n",
      "17571/17571 [==============================] - 3s 166us/sample - loss: 0.8758 - accuracy: 0.7839\n",
      "Epoch 74/150\n",
      "17571/17571 [==============================] - 3s 178us/sample - loss: 0.8481 - accuracy: 0.7932\n",
      "Epoch 75/150\n",
      "17571/17571 [==============================] - 3s 169us/sample - loss: 0.8322 - accuracy: 0.7997\n",
      "Epoch 76/150\n",
      "17571/17571 [==============================] - 3s 176us/sample - loss: 0.8219 - accuracy: 0.8001\n",
      "Epoch 77/150\n",
      "17571/17571 [==============================] - 3s 168us/sample - loss: 0.8259 - accuracy: 0.7981\n",
      "Epoch 78/150\n",
      "17571/17571 [==============================] - 3s 156us/sample - loss: 0.7863 - accuracy: 0.8071\n",
      "Epoch 79/150\n",
      "17571/17571 [==============================] - 3s 165us/sample - loss: 0.7619 - accuracy: 0.8166\n",
      "Epoch 80/150\n",
      "17571/17571 [==============================] - 3s 172us/sample - loss: 0.7494 - accuracy: 0.8170\n",
      "Epoch 81/150\n",
      "17571/17571 [==============================] - 3s 156us/sample - loss: 0.7549 - accuracy: 0.8137\n",
      "Epoch 82/150\n",
      "17571/17571 [==============================] - 3s 164us/sample - loss: 0.7346 - accuracy: 0.8186\n",
      "Epoch 83/150\n",
      "17571/17571 [==============================] - 3s 156us/sample - loss: 0.7270 - accuracy: 0.8203\n",
      "Epoch 84/150\n",
      "17571/17571 [==============================] - 3s 181us/sample - loss: 0.7022 - accuracy: 0.8292\n",
      "Epoch 85/150\n",
      "17571/17571 [==============================] - 4s 212us/sample - loss: 0.6786 - accuracy: 0.8358\n",
      "Epoch 86/150\n",
      "17571/17571 [==============================] - 3s 195us/sample - loss: 0.6694 - accuracy: 0.8363\n",
      "Epoch 87/150\n",
      "17571/17571 [==============================] - 3s 175us/sample - loss: 0.6704 - accuracy: 0.8359\n",
      "Epoch 88/150\n",
      "17571/17571 [==============================] - 3s 171us/sample - loss: 0.6570 - accuracy: 0.8406\n",
      "Epoch 89/150\n",
      "17571/17571 [==============================] - 3s 172us/sample - loss: 0.6367 - accuracy: 0.8455\n",
      "Epoch 90/150\n",
      "17571/17571 [==============================] - 3s 178us/sample - loss: 0.6346 - accuracy: 0.8424\n",
      "Epoch 91/150\n",
      "17571/17571 [==============================] - 3s 189us/sample - loss: 0.6282 - accuracy: 0.8454\n",
      "Epoch 92/150\n",
      "17571/17571 [==============================] - 3s 152us/sample - loss: 0.6346 - accuracy: 0.8446\n",
      "Epoch 93/150\n",
      "17571/17571 [==============================] - 3s 152us/sample - loss: 0.6085 - accuracy: 0.8536\n",
      "Epoch 94/150\n",
      "17571/17571 [==============================] - 3s 168us/sample - loss: 0.5792 - accuracy: 0.8605\n",
      "Epoch 95/150\n",
      "17571/17571 [==============================] - 3s 193us/sample - loss: 0.5535 - accuracy: 0.8692\n",
      "Epoch 96/150\n",
      "17571/17571 [==============================] - 3s 179us/sample - loss: 0.5592 - accuracy: 0.8664\n",
      "Epoch 97/150\n",
      "17571/17571 [==============================] - 3s 167us/sample - loss: 0.5547 - accuracy: 0.8672\n",
      "Epoch 98/150\n",
      "17571/17571 [==============================] - 4s 231us/sample - loss: 0.5562 - accuracy: 0.8681\n",
      "Epoch 99/150\n",
      "17571/17571 [==============================] - 4s 211us/sample - loss: 0.5336 - accuracy: 0.8729\n",
      "Epoch 100/150\n",
      "17571/17571 [==============================] - 3s 186us/sample - loss: 0.5294 - accuracy: 0.8741\n",
      "Epoch 101/150\n",
      "17571/17571 [==============================] - 3s 179us/sample - loss: 0.5191 - accuracy: 0.8763\n",
      "Epoch 102/150\n",
      "17571/17571 [==============================] - 3s 172us/sample - loss: 0.5086 - accuracy: 0.8781\n",
      "Epoch 103/150\n",
      "17571/17571 [==============================] - 3s 160us/sample - loss: 0.5032 - accuracy: 0.8807\n",
      "Epoch 104/150\n",
      "17571/17571 [==============================] - 3s 174us/sample - loss: 0.5049 - accuracy: 0.8795\n",
      "Epoch 105/150\n",
      "17571/17571 [==============================] - 3s 182us/sample - loss: 0.5099 - accuracy: 0.8735\n",
      "Epoch 106/150\n",
      "17571/17571 [==============================] - 3s 153us/sample - loss: 0.5359 - accuracy: 0.8672\n",
      "Epoch 107/150\n",
      "17571/17571 [==============================] - 3s 151us/sample - loss: 0.5403 - accuracy: 0.8648\n",
      "Epoch 108/150\n",
      "17571/17571 [==============================] - 3s 160us/sample - loss: 0.5045 - accuracy: 0.8746\n",
      "Epoch 109/150\n",
      "17571/17571 [==============================] - 3s 171us/sample - loss: 0.4717 - accuracy: 0.8878\n",
      "Epoch 110/150\n",
      "17571/17571 [==============================] - 3s 170us/sample - loss: 0.4408 - accuracy: 0.8964\n",
      "Epoch 111/150\n",
      "17571/17571 [==============================] - 3s 159us/sample - loss: 0.4118 - accuracy: 0.9042\n",
      "Epoch 112/150\n",
      "17571/17571 [==============================] - 3s 171us/sample - loss: 0.4026 - accuracy: 0.9081\n",
      "Epoch 113/150\n",
      "17571/17571 [==============================] - 3s 167us/sample - loss: 0.4116 - accuracy: 0.9048\n",
      "Epoch 114/150\n",
      "17571/17571 [==============================] - 3s 178us/sample - loss: 0.4327 - accuracy: 0.8963\n",
      "Epoch 115/150\n",
      "17571/17571 [==============================] - 4s 215us/sample - loss: 0.4441 - accuracy: 0.8934\n",
      "Epoch 116/150\n",
      "17571/17571 [==============================] - 4s 200us/sample - loss: 0.4852 - accuracy: 0.8767\n",
      "Epoch 117/150\n",
      "17571/17571 [==============================] - 4s 207us/sample - loss: 0.4718 - accuracy: 0.8800\n",
      "Epoch 118/150\n",
      "17571/17571 [==============================] - 3s 198us/sample - loss: 0.4735 - accuracy: 0.8815\n",
      "Epoch 119/150\n",
      "17571/17571 [==============================] - 4s 236us/sample - loss: 0.4482 - accuracy: 0.8910\n",
      "Epoch 120/150\n",
      "17571/17571 [==============================] - 4s 248us/sample - loss: 0.4089 - accuracy: 0.9029\n",
      "Epoch 121/150\n",
      "17571/17571 [==============================] - 4s 226us/sample - loss: 0.3602 - accuracy: 0.9167\n",
      "Epoch 122/150\n",
      "17571/17571 [==============================] - 4s 209us/sample - loss: 0.3515 - accuracy: 0.9187\n",
      "Epoch 123/150\n",
      "17571/17571 [==============================] - 3s 198us/sample - loss: 0.3282 - accuracy: 0.9285\n",
      "Epoch 124/150\n",
      "17571/17571 [==============================] - 3s 195us/sample - loss: 0.3239 - accuracy: 0.9283\n",
      "Epoch 125/150\n",
      "17571/17571 [==============================] - 3s 194us/sample - loss: 0.3224 - accuracy: 0.9268\n",
      "Epoch 126/150\n",
      "17571/17571 [==============================] - 3s 197us/sample - loss: 0.3558 - accuracy: 0.9140\n",
      "Epoch 127/150\n",
      "17571/17571 [==============================] - 4s 208us/sample - loss: 0.3767 - accuracy: 0.9088\n",
      "Epoch 128/150\n",
      "17571/17571 [==============================] - 4s 207us/sample - loss: 0.4089 - accuracy: 0.8954\n",
      "Epoch 129/150\n",
      "17571/17571 [==============================] - 3s 191us/sample - loss: 0.4731 - accuracy: 0.8763\n",
      "Epoch 130/150\n",
      "17571/17571 [==============================] - 3s 187us/sample - loss: 0.5267 - accuracy: 0.8612\n",
      "Epoch 131/150\n",
      "17571/17571 [==============================] - 3s 185us/sample - loss: 0.4813 - accuracy: 0.8708\n",
      "Epoch 132/150\n",
      "17571/17571 [==============================] - 3s 185us/sample - loss: 0.3985 - accuracy: 0.9017\n",
      "Epoch 133/150\n",
      "17571/17571 [==============================] - 3s 186us/sample - loss: 0.3316 - accuracy: 0.9227\n",
      "Epoch 134/150\n",
      "17571/17571 [==============================] - 3s 185us/sample - loss: 0.2773 - accuracy: 0.9399\n",
      "Epoch 135/150\n",
      "17571/17571 [==============================] - 3s 184us/sample - loss: 0.2439 - accuracy: 0.9491\n",
      "Epoch 136/150\n",
      "17571/17571 [==============================] - 3s 189us/sample - loss: 0.2246 - accuracy: 0.9565\n",
      "Epoch 137/150\n",
      "17571/17571 [==============================] - 4s 201us/sample - loss: 0.2081 - accuracy: 0.9600\n",
      "Epoch 138/150\n",
      "17571/17571 [==============================] - 3s 191us/sample - loss: 0.2123 - accuracy: 0.9594\n",
      "Epoch 139/150\n",
      "17571/17571 [==============================] - 3s 186us/sample - loss: 0.2362 - accuracy: 0.9512\n",
      "Epoch 140/150\n",
      "17571/17571 [==============================] - 3s 190us/sample - loss: 0.3524 - accuracy: 0.9144\n",
      "Epoch 141/150\n",
      "17571/17571 [==============================] - 3s 187us/sample - loss: 0.4994 - accuracy: 0.8664\n",
      "Epoch 142/150\n",
      "17571/17571 [==============================] - 3s 184us/sample - loss: 0.6530 - accuracy: 0.8215\n",
      "Epoch 143/150\n",
      "17571/17571 [==============================] - 3s 179us/sample - loss: 0.6575 - accuracy: 0.8174\n",
      "Epoch 144/150\n",
      "17571/17571 [==============================] - 3s 179us/sample - loss: 0.4950 - accuracy: 0.8645\n",
      "Epoch 145/150\n",
      "17571/17571 [==============================] - 3s 179us/sample - loss: 0.3522 - accuracy: 0.9117\n",
      "Epoch 146/150\n",
      "17571/17571 [==============================] - 3s 177us/sample - loss: 0.2529 - accuracy: 0.9444\n",
      "Epoch 147/150\n",
      "17571/17571 [==============================] - 3s 187us/sample - loss: 0.1882 - accuracy: 0.9647\n",
      "Epoch 148/150\n",
      "17571/17571 [==============================] - 3s 182us/sample - loss: 0.1509 - accuracy: 0.9758\n",
      "Epoch 149/150\n"
     ]
    },
    {
     "name": "stdout",
     "output_type": "stream",
     "text": [
      "17571/17571 [==============================] - 3s 173us/sample - loss: 0.1336 - accuracy: 0.9789\n",
      "Epoch 150/150\n",
      "17571/17571 [==============================] - 3s 171us/sample - loss: 0.1278 - accuracy: 0.9816\n"
     ]
    }
   ],
   "source": [
    "batch_size = 128\n",
    "epochs = 150\n",
    "history = model.fit(X, y, batch_size=batch_size, epochs = epochs)"
   ]
  },
  {
   "cell_type": "markdown",
   "metadata": {},
   "source": [
    "### Plotting the training history"
   ]
  },
  {
   "cell_type": "code",
   "execution_count": 11,
   "metadata": {},
   "outputs": [
    {
     "data": {
      "text/plain": [
       "Text(0, 0.5, 'Loss')"
      ]
     },
     "execution_count": 11,
     "metadata": {},
     "output_type": "execute_result"
    },
    {
     "data": {
      "image/png": "[encoded data removed]",
      "text/plain": [
       "<Figure size 1080x288 with 2 Axes>"
      ]
     },
     "metadata": {
      "needs_background": "light"
     },
     "output_type": "display_data"
    }
   ],
   "source": [
    "fig = plt.figure(figsize=(15,4))\n",
    "plt.subplot(1,2,1)\n",
    "plt.plot(history.history['accuracy'],color='r')\n",
    "plt.title('model accuracy')\n",
    "plt.xlabel('Epoch')\n",
    "plt.ylabel('Accuracy')\n",
    "\n",
    "plt.subplot(1,2,2)\n",
    "plt.plot(history.history['loss'],color='c')\n",
    "plt.title('model loss')\n",
    "plt.xlabel('Epoch')\n",
    "plt.ylabel('Loss')"
   ]
  },
  {
   "cell_type": "markdown",
   "metadata": {},
   "source": [
    "### Saving the model and tokenizer"
   ]
  },
  {
   "cell_type": "code",
   "execution_count": 12,
   "metadata": {},
   "outputs": [],
   "source": [
    "model.save('mode_RNN_Shakesphere_150.h5')\n",
    "dump(tokenizer, open('tokenizer.pkl', 'wb'))"
   ]
  },
  {
   "cell_type": "markdown",
   "metadata": {},
   "source": [
    "### Generating sentences from the model"
   ]
  },
  {
   "cell_type": "code",
   "execution_count": 16,
   "metadata": {},
   "outputs": [],
   "source": [
    "def poem_generator():\n",
    "    user_input = input(\"Write the first line of your poem, the poem generator will complete it!!   \")\n",
    "    in_text = user_input.lower()\n",
    "    sys.stdout.write('\\n\\nYour Poem\\n\\n')\n",
    "    start = ' '+ in_text+'\\n'\n",
    "    sys.stdout.write(start)\n",
    "    for i in range(99):\n",
    "        encoded = tokenizer.texts_to_sequences([in_text])[0]\n",
    "        encoded = pad_sequences([encoded], maxlen = input_length, truncating = 'pre')\n",
    "        predicted = model.predict_classes(encoded, verbose = 0)\n",
    "        out_word = ''\n",
    "        for word, index in tokenizer.word_index.items():\n",
    "            if index == predicted:\n",
    "                out_word = word\n",
    "                break\n",
    "        in_text += ' ' + out_word\n",
    "        out_word = ' ' + out_word\n",
    "        if i % 7 ==0 and i !=0:\n",
    "            out_word = out_word + '\\n'\n",
    "\n",
    "        sys.stdout.write(out_word)\n",
    "        sys.stdout.flush()"
   ]
  },
  {
   "cell_type": "code",
   "execution_count": 17,
   "metadata": {},
   "outputs": [
    {
     "name": "stdout",
     "output_type": "stream",
     "text": [
      "Write the first line of your poem, the poem generator will complete it!!   time is slow for those who wait\n",
      "\n",
      "\n",
      "Your Poem\n",
      "\n",
      " time is slow for those who wait\n",
      " fair sweetest reserve for for thy self the\n",
      " day doth hang pitch for all have\n",
      " mourn or wide him it her his\n",
      " heart such lie of all thy heart\n",
      " and him so if i art but\n",
      " ever be not is you beauty excuse\n",
      " a lays are beauties that you alone\n",
      " is thy true shall one as mine\n",
      " in love is now you much being\n",
      " beautys alone thee do not alone things\n",
      " in a shade or i shall every\n",
      " cheater do effect my wondrous shall state\n",
      " to spirit to one be love he\n",
      " are ill recured than thou hearts because\n"
     ]
    }
   ],
   "source": [
    "poem_generator()"
   ]
  }
 ],
 "metadata": {
  "kernelspec": {
   "display_name": "Python 3",
   "language": "python",
   "name": "python3"
  },
  "language_info": {
   "codemirror_mode": {
    "name": "ipython",
    "version": 3
   },
   "file_extension": ".py",
   "mimetype": "text/x-python",
   "name": "python",
   "nbconvert_exporter": "python",
   "pygments_lexer": "ipython3",
   "version": "3.6.8"
  }
 },
 "nbformat": 4,
 "nbformat_minor": 2
}
